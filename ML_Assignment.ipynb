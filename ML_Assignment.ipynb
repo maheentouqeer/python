{
 "cells": [
  {
   "cell_type": "markdown",
   "id": "9f8ccbf8",
   "metadata": {},
   "source": [
    "# Titanic ML Assignment\n",
    "### Submitted by: Maheen Touqeer"
   ]
  },
  {
   "cell_type": "markdown",
   "id": "e9a384e6",
   "metadata": {},
   "source": [
    "This notebook demonstrates an end-to-end ML pipeline on the **Titanic dataset** from Kaggle."
   ]
  },
  {
   "cell_type": "markdown",
   "id": "36293453",
   "metadata": {},
   "source": [
    "## 1. Setup & Data Loading"
   ]
  },
  {
   "cell_type": "code",
   "execution_count": null,
   "id": "02d30b48",
   "metadata": {},
   "outputs": [],
   "source": [
    "import os, warnings\n",
    "import numpy as np\n",
    "import pandas as pd\n",
    "import matplotlib.pyplot as plt\n",
    "import seaborn as sns\n",
    "from sklearn.model_selection import train_test_split\n",
    "from sklearn.preprocessing import StandardScaler\n",
    "from sklearn.metrics import accuracy_score, confusion_matrix, classification_report, roc_curve, auc\n",
    "from sklearn.linear_model import LogisticRegression\n",
    "from sklearn.tree import DecisionTreeClassifier\n",
    "from sklearn.ensemble import RandomForestClassifier\n",
    "from sklearn.svm import SVC\n",
    "\n",
    "warnings.filterwarnings('ignore')\n",
    "sns.set()\n",
    "plt.rcParams['figure.figsize'] = (8,5)\n",
    "\n",
    "# Load data\n",
    "data_path = 'data/train.csv'\n",
    "if not os.path.exists(data_path):\n",
    "    print('Kaggle train.csv not found. Using included sample dataset.')\n",
    "df = pd.read_csv(data_path)\n",
    "df.head()"
   ]
  },
  {
   "cell_type": "markdown",
   "id": "17c8779d",
   "metadata": {},
   "source": [
    "## 2. Data Cleaning"
   ]
  },
  {
   "cell_type": "code",
   "execution_count": null,
   "id": "b640efea",
   "metadata": {},
   "outputs": [],
   "source": [
    "print(\"Missing values before cleaning:\\n\", df.isna().sum())\n",
    "\n",
    "# Fill missing values\n",
    "if 'Embarked' in df.columns and df['Embarked'].isna().sum()>0:\n",
    "    df['Embarked'].fillna(df['Embarked'].mode()[0], inplace=True)\n",
    "if 'Age' in df.columns and df['Age'].isna().sum()>0:\n",
    "    df['Age'].fillna(df['Age'].median(), inplace=True)\n",
    "\n",
    "# Drop high-missing or irrelevant columns\n",
    "df.drop(columns=['Cabin','Ticket','Name'], errors='ignore', inplace=True)\n",
    "\n",
    "print(\"\\nAfter cleaning:\\n\", df.isna().sum())\n",
    "df.head()"
   ]
  },
  {
   "cell_type": "markdown",
   "id": "f48111ea",
   "metadata": {},
   "source": [
    "## 3. Exploratory Data Analysis (EDA)"
   ]
  },
  {
   "cell_type": "code",
   "execution_count": null,
   "id": "2b5abf53",
   "metadata": {},
   "outputs": [],
   "source": [
    "os.makedirs('images', exist_ok=True)\n",
    "\n",
    "# Age distribution\n",
    "ax = sns.histplot(df['Age'], kde=True)\n",
    "ax.set_title('Age Distribution')\n",
    "plt.tight_layout()\n",
    "plt.savefig('images/eda_distribution.png')\n",
    "plt.show()\n",
    "\n",
    "# Survival by Class\n",
    "ax = sns.barplot(x='Pclass', y='Survived', data=df)\n",
    "ax.set_title('Survival Rate by Class')\n",
    "plt.tight_layout()\n",
    "plt.savefig('images/survival_by_class.png')\n",
    "plt.show()\n",
    "\n",
    "# Correlation Heatmap\n",
    "corr = df.select_dtypes(include=[np.number]).corr()\n",
    "ax = sns.heatmap(corr, annot=True, fmt='.2f', cmap='coolwarm')\n",
    "ax.set_title('Correlation Heatmap')\n",
    "plt.tight_layout()\n",
    "plt.savefig('images/heatmap.png')\n",
    "plt.show()"
   ]
  },
  {
   "cell_type": "markdown",
   "id": "330bed40",
   "metadata": {},
   "source": [
    "## 4. Feature Engineering & Encoding"
   ]
  },
  {
   "cell_type": "code",
   "execution_count": null,
   "id": "fbdfd66f",
   "metadata": {},
   "outputs": [],
   "source": [
    "# Create new features\n",
    "df['FamilySize'] = df.get('SibSp',0) + df.get('Parch',0) + 1\n",
    "df['IsAlone'] = (df['FamilySize'] == 1).astype(int)\n",
    "\n",
    "# Encode categorical variables\n",
    "if 'Sex' in df.columns and df['Sex'].dtype=='object':\n",
    "    df['Sex'] = df['Sex'].map({'male':0,'female':1})\n",
    "if 'Embarked' in df.columns and df['Embarked'].dtype=='object':\n",
    "    df = pd.get_dummies(df, columns=['Embarked'], drop_first=True)\n",
    "\n",
    "df.head()"
   ]
  },
  {
   "cell_type": "markdown",
   "id": "5e57df5b",
   "metadata": {},
   "source": [
    "## 5. Train/Test Split & Scaling"
   ]
  },
  {
   "cell_type": "code",
   "execution_count": null,
   "id": "ed8af1e8",
   "metadata": {},
   "outputs": [],
   "source": [
    "target='Survived'\n",
    "X = df.drop(columns=[target]).select_dtypes(include=[np.number])\n",
    "y = df[target]\n",
    "\n",
    "X_train, X_test, y_train, y_test = train_test_split(X, y, test_size=0.2, random_state=42, stratify=y)\n",
    "\n",
    "scaler = StandardScaler()\n",
    "X_train_scaled = scaler.fit_transform(X_train)\n",
    "X_test_scaled = scaler.transform(X_test)"
   ]
  },
  {
   "cell_type": "markdown",
   "id": "3628a1e1",
   "metadata": {},
   "source": [
    "## 6. Model Training"
   ]
  },
  {
   "cell_type": "code",
   "execution_count": null,
   "id": "75759200",
   "metadata": {},
   "outputs": [],
   "source": [
    "models = {\n",
    "    'LogisticRegression': LogisticRegression(max_iter=1000),\n",
    "    'DecisionTree': DecisionTreeClassifier(random_state=42),\n",
    "    'RandomForest': RandomForestClassifier(n_estimators=200, random_state=42),\n",
    "    'SVM-RBF': SVC(kernel='rbf', probability=True, random_state=42)\n",
    "}\n",
    "results = {}\n",
    "\n",
    "for name, clf in models.items():\n",
    "    if name in ['LogisticRegression','SVM-RBF']:\n",
    "        clf.fit(X_train_scaled, y_train)\n",
    "        preds = clf.predict(X_test_scaled)\n",
    "        proba = clf.predict_proba(X_test_scaled)[:,1]\n",
    "    else:\n",
    "        clf.fit(X_train, y_train)\n",
    "        preds = clf.predict(X_test)\n",
    "        proba = clf.predict_proba(X_test)[:,1]\n",
    "    \n",
    "    acc = accuracy_score(y_test, preds)\n",
    "    results[name] = {'acc': acc, 'preds': preds, 'proba': proba, 'model': clf}\n",
    "\n",
    "results"
   ]
  },
  {
   "cell_type": "markdown",
   "id": "dc04e20d",
   "metadata": {},
   "source": [
    "## 7. Model Evaluation"
   ]
  },
  {
   "cell_type": "code",
   "execution_count": null,
   "id": "4e687564",
   "metadata": {},
   "outputs": [],
   "source": [
    "best_name = max(results, key=lambda k: results[k]['acc'])\n",
    "best = results[best_name]\n",
    "\n",
    "print(f'Best model: {best_name} (Accuracy={best['acc']:.3f})')\n",
    "\n",
    "# Confusion Matrix\n",
    "cm = confusion_matrix(y_test, best['preds'])\n",
    "fig, ax = plt.subplots()\n",
    "sns.heatmap(cm, annot=True, fmt='d', cmap='Blues', ax=ax)\n",
    "ax.set_title(f'Confusion Matrix - {best_name}')\n",
    "ax.set_xlabel('Predicted')\n",
    "ax.set_ylabel('Actual')\n",
    "plt.tight_layout()\n",
    "plt.savefig('images/confusion_matrix.png')\n",
    "plt.show()\n",
    "\n",
    "# ROC Curve\n",
    "fpr, tpr, _ = roc_curve(y_test, best['proba'])\n",
    "roc_auc = auc(fpr, tpr)\n",
    "\n",
    "plt.figure()\n",
    "plt.plot(fpr, tpr, label=f'{best_name} (AUC={roc_auc:.2f})')\n",
    "plt.plot([0,1],[0,1],'--')\n",
    "plt.xlabel('False Positive Rate')\n",
    "plt.ylabel('True Positive Rate')\n",
    "plt.title('ROC Curve')\n",
    "plt.legend(loc='lower right')\n",
    "plt.tight_layout()\n",
    "plt.savefig('images/roc_curve.png')\n",
    "plt.show()\n",
    "\n",
    "# Classification Report\n",
    "print(classification_report(y_test, best['preds']))"
   ]
  },
  {
   "cell_type": "markdown",
   "id": "13ebab2b",
   "metadata": {},
   "source": [
    "## 8. Conclusion"
   ]
  },
  {
   "cell_type": "markdown",
   "id": "4053d66b",
   "metadata": {},
   "source": [
    "- The pipeline successfully trained multiple ML models.  \n",
    "- Random Forest often performs best on Titanic dataset, but exact results depend on training split.  \n",
    "- Replace the sample data with Kaggle's full `train.csv` to get robust results.  \n",
    "- Plots and metrics are saved into the **images/** folder.  \n"
   ]
  }
 ],
 "metadata": {},
 "nbformat": 4,
 "nbformat_minor": 5
}
